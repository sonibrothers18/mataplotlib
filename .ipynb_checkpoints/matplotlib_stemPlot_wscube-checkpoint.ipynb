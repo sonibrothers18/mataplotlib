{
 "cells": [
  {
   "cell_type": "code",
   "execution_count": 1,
   "id": "8726e23c-edda-4bbc-8662-37b76a4694df",
   "metadata": {},
   "outputs": [],
   "source": [
    "import matplotlib.pyplot as plt\n",
    "import numpy as np"
   ]
  },
  {
   "cell_type": "markdown",
   "id": "3b7a5cfb-c6c4-44ff-aed4-2d20e9d38b62",
   "metadata": {},
   "source": [
    "# Stem Plot -->"
   ]
  },
  {
   "cell_type": "code",
   "execution_count": null,
   "id": "369d02f2-c27e-4bc4-ab31-4e0766ba2859",
   "metadata": {},
   "outputs": [],
   "source": []
  }
 ],
 "metadata": {
  "kernelspec": {
   "display_name": "Python 3 (ipykernel)",
   "language": "python",
   "name": "python3"
  },
  "language_info": {
   "codemirror_mode": {
    "name": "ipython",
    "version": 3
   },
   "file_extension": ".py",
   "mimetype": "text/x-python",
   "name": "python",
   "nbconvert_exporter": "python",
   "pygments_lexer": "ipython3",
   "version": "3.12.5"
  }
 },
 "nbformat": 4,
 "nbformat_minor": 5
}
